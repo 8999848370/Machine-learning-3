{
 "cells": [
  {
   "cell_type": "markdown",
   "metadata": {},
   "source": [
    "# Project - Phishing Detector using LR"
   ]
  },
  {
   "cell_type": "markdown",
   "metadata": {},
   "source": [
    "Project - Phishing Detector using LR \n",
    " \n",
    "Description : \n",
    " \n",
    "The dataset is a text file which provides the following resources that can be used as inputs for model building : \n",
    " \n",
    "1. A collection of website URLs for 11000+ websites. Each sample has 30 website parameters and a class label identifying it as a phishing website or not (1 or -1). \n",
    " \n",
    "2. The code template containing these code blocks: a. Import modules (Part 1) b. Load data function + input/output field descriptions \n",
    " \n",
    "The dataset also serves as an input for project scoping and tries to specify the functional and non-functional requirements for it. \n",
    " \n",
    "Background of the Problem Statement : \n",
    " \n",
    "You are expected to write the code for a binary classification model (phishing website or not) using Python Scikit-Learn that trains on the data and calculates the accuracy score on the test data. You have to use one or more of the classification algorithms to train a model on the phishing website dataset. \n",
    " Domain :​ Cyber Security and Web Mining \n",
    " Dataset Description : \n",
    " \n",
    "Data Dictionary – Variable and Description \n",
    " ● UsingIP​ (categorical - signed numeric) ​:​ { -1,1 } ● LongURL​ (categorical - signed numeric) ​:​ { 1,0,-1 } ● ShortURL​ (categorical - signed numeric) ​:​ { 1,-1 } ● Symbol@​ (categorical - signed numeric) ​:​ { 1,-1 } ● Redirecting//​ (categorical - signed numeric) ​:​ { -1,1 } ● PrefixSuffix-​ (categorical - signed numeric) ​:​ { -1,1 } ● SubDomain​s (categorical - signed numeric) ​:​ { -1,0,1 } ● HTTPS​ (categorical - signed numeric) ​:​ { -1,1,0 } ● DomainRegLen​ (categorical - signed numeric) ​:​ { -1,1 } ● Favicon​ (categorical - signed numeric) ​:​ { 1,-1 } ● NonStdPort​ (categorical - signed numeric) ​:​ { 1,-1 } ● HTTPSDomainURL​ (categorical - signed numeric) ​:​ { -1,1 } ● RequestURL​ (categorical - signed numeric) ​:​ { 1,-1 } \n",
    "● AnchorURL​ (categorical - signed numeric) ​:​ { -1,0,1 } ● LinksInScriptTags​ (categorical - signed numeric) ​:​ { 1,-1,0 } ● ServerFormHandler​ (categorical - signed numeric) ​:​ { -1,1,0 } ● InfoEmail​ (categorical - signed numeric) ​:​ { -1,1 } ● AbnormalURL​ (categorical - signed numeric) ​:​ { -1,1 } ● WebsiteForwarding​ (categorical - signed numeric) ​:​ { 0,1 } ● StatusBarCust​ (categorical - signed numeric) ​:​ { 1,-1 } ● DisableRightClick​ (categorical - signed numeric) ​:​ { 1,-1 } ● UsingPopupWindow​ (categorical - signed numeric) ​:​ { 1,-1 } ● IframeRedirection​ (categorical - signed numeric) ​:​ { 1,-1 } ● AgeOfDomain​ (categorical - signed numeric) ​:​ { -1,1 } ● DNSRecording​ (categorical - signed numeric) ​:​ { -1,1 } ● WebsiteTraffic​ (categorical - signed numeric) ​:​ { -1,0,1 } ● PageRank​ (categorical - signed numeric) ​:​ { -1,1 } ● GoogleIndex​ (categorical - signed numeric) ​:​ { 1,-1 } ● LinksPointingToPage​ (categorical - signed numeric) ​:​ { 1,0,-1 } ● StatsReport​ (categorical - signed numeric) ​:​ { -1,1 } ● class​ (categorical - signed numeric) ​:​ { -1,1 } \n",
    " \n",
    " \n",
    "Dataset Size :​ ​11055 rows x 31 columns \n",
    " Hint : \n",
    " \n",
    "● The dataset is a “.txt” file with no headers and has only the column values. \n",
    " \n",
    "● The actual column-wise header is described above and, if needed, you can add the header manually. \n",
    " \n",
    "● The header list is as follows : [ 'UsingIP', 'LongURL', 'ShortURL', 'Symbol@', 'Redirecting//',            'PrefixSuffix-', 'SubDomains', 'HTTPS', 'DomainRegLen', 'Favicon',            'NonStdPort', 'HTTPSDomainURL', 'RequestURL', 'AnchorURL',            'LinksInScriptTags', 'ServerFormHandler', 'InfoEmail', 'AbnormalURL',            'WebsiteForwarding', 'StatusBarCust', 'DisableRightClick',            'UsingPopupWindow', 'IframeRedirection', 'AgeofDomain',            'DNSRecording', 'WebsiteTraffic', 'PageRank', 'GoogleIndex',            'LinksPointingToPage', 'StatsReport', 'class' ] \n",
    " \n",
    " \n",
    " \n",
    " \n",
    " \n",
    "Questions to be answered with analysis : \n",
    " \n",
    "1. Write the code for a binary classification model (phishing website or not) using Python Scikit-Learn that trains on the data and calculates the accuracy score on the test data. \n",
    " \n",
    "2. Use one or more of the classification algorithms to train a model on the phishing website dataset. \n",
    " \n",
    "Project Guidelines : \n",
    " \n",
    "#### 1. Initiation : \n",
    "\n",
    "● Begin by creating a new ipynb file and load the dataset in it. \n",
    " \n",
    "#### 2. Exercise 1 : \n",
    "\n",
    "● Build a phishing website classifier using Logistic Regression with “C” parameter = 100.  \n",
    "\n",
    "● Use 70% of data as training data and the remaining 30% as test data. [ Hint: Use Scikit-Learn library LogisticRegression ] [ Hint: Refer to the logistic regression tutorial taught earlier in the course ] \n",
    "\n",
    "● Print count of misclassified samples in the test data prediction as well as the accuracy score of the model.  \n",
    " \n",
    "#### 3. Exercise 2 : \n",
    "\n",
    "● Train with only two input parameters - parameter Prefix_Suffix and 13 URL_of_Anchor. \n",
    "\n",
    "● Check accuracy using the test data and compare the accuracy with the previous value. \n",
    "\n",
    "● Plot the test samples along with the decision boundary when trained with index 5 and index 13 parameters.  "
   ]
  },
  {
   "cell_type": "markdown",
   "metadata": {},
   "source": [
    "#### importing pandas and numpy as pd and np"
   ]
  },
  {
   "cell_type": "code",
   "execution_count": 1,
   "metadata": {},
   "outputs": [],
   "source": [
    "import numpy as np\n",
    "import pandas as pd"
   ]
  },
  {
   "cell_type": "markdown",
   "metadata": {},
   "source": [
    "Import a \"phishing.txt\" file and \n",
    "Creating a dataframe for analyasis "
   ]
  },
  {
   "cell_type": "code",
   "execution_count": 2,
   "metadata": {},
   "outputs": [],
   "source": [
    "data=pd.read_csv(\"phishing.txt\",names=[ 'UsingIP', 'LongURL', 'ShortURL', 'Symbol@', 'Redirecting//',\n",
    "           'PrefixSuffix-', 'SubDomains', 'HTTPS', 'DomainRegLen', 'Favicon',\n",
    "           'NonStdPort', 'HTTPSDomainURL', 'RequestURL', 'AnchorURL',\n",
    "           'LinksInScriptTags', 'ServerFormHandler', 'InfoEmail', 'AbnormalURL',\n",
    "           'WebsiteForwarding', 'StatusBarCust', 'DisableRightClick',\n",
    "           'UsingPopupWindow', 'IframeRedirection', 'AgeofDomain',\n",
    "           'DNSRecording', 'WebsiteTraffic', 'PageRank', 'GoogleIndex',\n",
    "           'LinksPointingToPage', 'StatsReport', 'class' ])"
   ]
  },
  {
   "cell_type": "code",
   "execution_count": 3,
   "metadata": {
    "scrolled": false
   },
   "outputs": [
    {
     "data": {
      "text/html": [
       "<div>\n",
       "<style scoped>\n",
       "    .dataframe tbody tr th:only-of-type {\n",
       "        vertical-align: middle;\n",
       "    }\n",
       "\n",
       "    .dataframe tbody tr th {\n",
       "        vertical-align: top;\n",
       "    }\n",
       "\n",
       "    .dataframe thead th {\n",
       "        text-align: right;\n",
       "    }\n",
       "</style>\n",
       "<table border=\"1\" class=\"dataframe\">\n",
       "  <thead>\n",
       "    <tr style=\"text-align: right;\">\n",
       "      <th></th>\n",
       "      <th>UsingIP</th>\n",
       "      <th>LongURL</th>\n",
       "      <th>ShortURL</th>\n",
       "      <th>Symbol@</th>\n",
       "      <th>Redirecting//</th>\n",
       "      <th>PrefixSuffix-</th>\n",
       "      <th>SubDomains</th>\n",
       "      <th>HTTPS</th>\n",
       "      <th>DomainRegLen</th>\n",
       "      <th>Favicon</th>\n",
       "      <th>...</th>\n",
       "      <th>UsingPopupWindow</th>\n",
       "      <th>IframeRedirection</th>\n",
       "      <th>AgeofDomain</th>\n",
       "      <th>DNSRecording</th>\n",
       "      <th>WebsiteTraffic</th>\n",
       "      <th>PageRank</th>\n",
       "      <th>GoogleIndex</th>\n",
       "      <th>LinksPointingToPage</th>\n",
       "      <th>StatsReport</th>\n",
       "      <th>class</th>\n",
       "    </tr>\n",
       "  </thead>\n",
       "  <tbody>\n",
       "    <tr>\n",
       "      <td>0</td>\n",
       "      <td>-1</td>\n",
       "      <td>1</td>\n",
       "      <td>1</td>\n",
       "      <td>1</td>\n",
       "      <td>-1</td>\n",
       "      <td>-1</td>\n",
       "      <td>-1</td>\n",
       "      <td>-1</td>\n",
       "      <td>-1</td>\n",
       "      <td>1</td>\n",
       "      <td>...</td>\n",
       "      <td>1</td>\n",
       "      <td>1</td>\n",
       "      <td>-1</td>\n",
       "      <td>-1</td>\n",
       "      <td>-1</td>\n",
       "      <td>-1</td>\n",
       "      <td>1</td>\n",
       "      <td>1</td>\n",
       "      <td>-1</td>\n",
       "      <td>-1</td>\n",
       "    </tr>\n",
       "    <tr>\n",
       "      <td>1</td>\n",
       "      <td>1</td>\n",
       "      <td>1</td>\n",
       "      <td>1</td>\n",
       "      <td>1</td>\n",
       "      <td>1</td>\n",
       "      <td>-1</td>\n",
       "      <td>0</td>\n",
       "      <td>1</td>\n",
       "      <td>-1</td>\n",
       "      <td>1</td>\n",
       "      <td>...</td>\n",
       "      <td>1</td>\n",
       "      <td>1</td>\n",
       "      <td>-1</td>\n",
       "      <td>-1</td>\n",
       "      <td>0</td>\n",
       "      <td>-1</td>\n",
       "      <td>1</td>\n",
       "      <td>1</td>\n",
       "      <td>1</td>\n",
       "      <td>-1</td>\n",
       "    </tr>\n",
       "    <tr>\n",
       "      <td>2</td>\n",
       "      <td>1</td>\n",
       "      <td>0</td>\n",
       "      <td>1</td>\n",
       "      <td>1</td>\n",
       "      <td>1</td>\n",
       "      <td>-1</td>\n",
       "      <td>-1</td>\n",
       "      <td>-1</td>\n",
       "      <td>-1</td>\n",
       "      <td>1</td>\n",
       "      <td>...</td>\n",
       "      <td>1</td>\n",
       "      <td>1</td>\n",
       "      <td>1</td>\n",
       "      <td>-1</td>\n",
       "      <td>1</td>\n",
       "      <td>-1</td>\n",
       "      <td>1</td>\n",
       "      <td>0</td>\n",
       "      <td>-1</td>\n",
       "      <td>-1</td>\n",
       "    </tr>\n",
       "    <tr>\n",
       "      <td>3</td>\n",
       "      <td>1</td>\n",
       "      <td>0</td>\n",
       "      <td>1</td>\n",
       "      <td>1</td>\n",
       "      <td>1</td>\n",
       "      <td>-1</td>\n",
       "      <td>-1</td>\n",
       "      <td>-1</td>\n",
       "      <td>1</td>\n",
       "      <td>1</td>\n",
       "      <td>...</td>\n",
       "      <td>1</td>\n",
       "      <td>1</td>\n",
       "      <td>-1</td>\n",
       "      <td>-1</td>\n",
       "      <td>1</td>\n",
       "      <td>-1</td>\n",
       "      <td>1</td>\n",
       "      <td>-1</td>\n",
       "      <td>1</td>\n",
       "      <td>-1</td>\n",
       "    </tr>\n",
       "    <tr>\n",
       "      <td>4</td>\n",
       "      <td>1</td>\n",
       "      <td>0</td>\n",
       "      <td>-1</td>\n",
       "      <td>1</td>\n",
       "      <td>1</td>\n",
       "      <td>-1</td>\n",
       "      <td>1</td>\n",
       "      <td>1</td>\n",
       "      <td>-1</td>\n",
       "      <td>1</td>\n",
       "      <td>...</td>\n",
       "      <td>-1</td>\n",
       "      <td>1</td>\n",
       "      <td>-1</td>\n",
       "      <td>-1</td>\n",
       "      <td>0</td>\n",
       "      <td>-1</td>\n",
       "      <td>1</td>\n",
       "      <td>1</td>\n",
       "      <td>1</td>\n",
       "      <td>1</td>\n",
       "    </tr>\n",
       "  </tbody>\n",
       "</table>\n",
       "<p>5 rows × 31 columns</p>\n",
       "</div>"
      ],
      "text/plain": [
       "   UsingIP  LongURL  ShortURL  Symbol@  Redirecting//  PrefixSuffix-  \\\n",
       "0       -1        1         1        1             -1             -1   \n",
       "1        1        1         1        1              1             -1   \n",
       "2        1        0         1        1              1             -1   \n",
       "3        1        0         1        1              1             -1   \n",
       "4        1        0        -1        1              1             -1   \n",
       "\n",
       "   SubDomains  HTTPS  DomainRegLen  Favicon  ...  UsingPopupWindow  \\\n",
       "0          -1     -1            -1        1  ...                 1   \n",
       "1           0      1            -1        1  ...                 1   \n",
       "2          -1     -1            -1        1  ...                 1   \n",
       "3          -1     -1             1        1  ...                 1   \n",
       "4           1      1            -1        1  ...                -1   \n",
       "\n",
       "   IframeRedirection  AgeofDomain  DNSRecording  WebsiteTraffic  PageRank  \\\n",
       "0                  1           -1            -1              -1        -1   \n",
       "1                  1           -1            -1               0        -1   \n",
       "2                  1            1            -1               1        -1   \n",
       "3                  1           -1            -1               1        -1   \n",
       "4                  1           -1            -1               0        -1   \n",
       "\n",
       "   GoogleIndex  LinksPointingToPage  StatsReport  class  \n",
       "0            1                    1           -1     -1  \n",
       "1            1                    1            1     -1  \n",
       "2            1                    0           -1     -1  \n",
       "3            1                   -1            1     -1  \n",
       "4            1                    1            1      1  \n",
       "\n",
       "[5 rows x 31 columns]"
      ]
     },
     "execution_count": 3,
     "metadata": {},
     "output_type": "execute_result"
    }
   ],
   "source": [
    "data.head()"
   ]
  },
  {
   "cell_type": "code",
   "execution_count": 4,
   "metadata": {},
   "outputs": [
    {
     "data": {
      "text/plain": [
       " 1    6157\n",
       "-1    4898\n",
       "Name: class, dtype: int64"
      ]
     },
     "execution_count": 4,
     "metadata": {},
     "output_type": "execute_result"
    }
   ],
   "source": [
    "data['class'].value_counts()"
   ]
  },
  {
   "cell_type": "markdown",
   "metadata": {},
   "source": [
    "#### All columns are numeric and does not having any null value"
   ]
  },
  {
   "cell_type": "markdown",
   "metadata": {},
   "source": [
    "11055 rows × 31 columns"
   ]
  },
  {
   "cell_type": "code",
   "execution_count": 5,
   "metadata": {},
   "outputs": [
    {
     "name": "stdout",
     "output_type": "stream",
     "text": [
      "<class 'pandas.core.frame.DataFrame'>\n",
      "RangeIndex: 11055 entries, 0 to 11054\n",
      "Data columns (total 31 columns):\n",
      "UsingIP                11055 non-null int64\n",
      "LongURL                11055 non-null int64\n",
      "ShortURL               11055 non-null int64\n",
      "Symbol@                11055 non-null int64\n",
      "Redirecting//          11055 non-null int64\n",
      "PrefixSuffix-          11055 non-null int64\n",
      "SubDomains             11055 non-null int64\n",
      "HTTPS                  11055 non-null int64\n",
      "DomainRegLen           11055 non-null int64\n",
      "Favicon                11055 non-null int64\n",
      "NonStdPort             11055 non-null int64\n",
      "HTTPSDomainURL         11055 non-null int64\n",
      "RequestURL             11055 non-null int64\n",
      "AnchorURL              11055 non-null int64\n",
      "LinksInScriptTags      11055 non-null int64\n",
      "ServerFormHandler      11055 non-null int64\n",
      "InfoEmail              11055 non-null int64\n",
      "AbnormalURL            11055 non-null int64\n",
      "WebsiteForwarding      11055 non-null int64\n",
      "StatusBarCust          11055 non-null int64\n",
      "DisableRightClick      11055 non-null int64\n",
      "UsingPopupWindow       11055 non-null int64\n",
      "IframeRedirection      11055 non-null int64\n",
      "AgeofDomain            11055 non-null int64\n",
      "DNSRecording           11055 non-null int64\n",
      "WebsiteTraffic         11055 non-null int64\n",
      "PageRank               11055 non-null int64\n",
      "GoogleIndex            11055 non-null int64\n",
      "LinksPointingToPage    11055 non-null int64\n",
      "StatsReport            11055 non-null int64\n",
      "class                  11055 non-null int64\n",
      "dtypes: int64(31)\n",
      "memory usage: 2.6 MB\n"
     ]
    }
   ],
   "source": [
    "data.info()"
   ]
  },
  {
   "cell_type": "markdown",
   "metadata": {},
   "source": [
    "## Exercise 1"
   ]
  },
  {
   "cell_type": "markdown",
   "metadata": {},
   "source": [
    "● Build a phishing website classifier using Logistic Regression with “C” parameter = 100.\n",
    "\n",
    "● Use 70% of data as training data and the remaining 30% as test data.\n",
    "\n",
    "● Print count of misclassified samples in the test data prediction as well as the accuracy score of the model."
   ]
  },
  {
   "cell_type": "code",
   "execution_count": 6,
   "metadata": {},
   "outputs": [],
   "source": [
    "features = data.iloc[:,:-1].values\n",
    "label = data.iloc[:,-1].values"
   ]
  },
  {
   "cell_type": "code",
   "execution_count": 7,
   "metadata": {},
   "outputs": [],
   "source": [
    "from sklearn.model_selection import train_test_split\n",
    "x_train,x_test,y_train,y_test = train_test_split(features,\n",
    "                                                label,\n",
    "                                                test_size = 0.3,\n",
    "                                                random_state =4)"
   ]
  },
  {
   "cell_type": "code",
   "execution_count": 8,
   "metadata": {},
   "outputs": [
    {
     "name": "stderr",
     "output_type": "stream",
     "text": [
      "C:\\Users\\nilesh\\Anaconda3\\lib\\site-packages\\sklearn\\linear_model\\logistic.py:432: FutureWarning: Default solver will be changed to 'lbfgs' in 0.22. Specify a solver to silence this warning.\n",
      "  FutureWarning)\n"
     ]
    },
    {
     "name": "stdout",
     "output_type": "stream",
     "text": [
      "training score =  0.9281468079607134\n",
      "testing score =  0.9285498944829665\n"
     ]
    }
   ],
   "source": [
    "# c = Inverse regularization parameter\n",
    "#  smaller values specify stronger regularization\n",
    "#  Higher values specify less regularization\n",
    "from sklearn.linear_model import LogisticRegression\n",
    "logistic_model= LogisticRegression(C = 100)\n",
    "logistic_model.fit(x_train,y_train)\n",
    "print(\"training score = \",logistic_model.score(x_train,y_train))\n",
    "print(\"testing score = \",logistic_model.score(x_test,y_test))"
   ]
  },
  {
   "cell_type": "code",
   "execution_count": 9,
   "metadata": {
    "scrolled": true
   },
   "outputs": [
    {
     "data": {
      "text/plain": [
       "array([[1304,  125],\n",
       "       [ 112, 1776]], dtype=int64)"
      ]
     },
     "execution_count": 9,
     "metadata": {},
     "output_type": "execute_result"
    }
   ],
   "source": [
    "from sklearn.metrics import confusion_matrix\n",
    "cm = confusion_matrix(y_test , logistic_model.predict(x_test))\n",
    "cm"
   ]
  },
  {
   "cell_type": "code",
   "execution_count": 10,
   "metadata": {},
   "outputs": [
    {
     "name": "stdout",
     "output_type": "stream",
     "text": [
      "accuracy =  0.9285498944829665\n"
     ]
    }
   ],
   "source": [
    "# cm.diagonal().sum()/cm.sum()\n",
    "from sklearn.metrics import accuracy_score\n",
    "print(\"accuracy = \",accuracy_score(y_test , logistic_model.predict(x_test)))"
   ]
  },
  {
   "cell_type": "code",
   "execution_count": 11,
   "metadata": {},
   "outputs": [
    {
     "data": {
      "text/plain": [
       "237"
      ]
     },
     "execution_count": 11,
     "metadata": {},
     "output_type": "execute_result"
    }
   ],
   "source": [
    "cm.sum()-cm.diagonal().sum()"
   ]
  },
  {
   "cell_type": "code",
   "execution_count": 12,
   "metadata": {},
   "outputs": [
    {
     "name": "stdout",
     "output_type": "stream",
     "text": [
      "Misclassified samples =  237\n"
     ]
    }
   ],
   "source": [
    "misclassified = np.where(y_test != logistic_model.predict(x_test))\n",
    "misclassified=np.array(misclassified)\n",
    "print(\"Misclassified samples = \",misclassified.shape[1])"
   ]
  },
  {
   "cell_type": "code",
   "execution_count": 13,
   "metadata": {},
   "outputs": [
    {
     "data": {
      "text/plain": [
       "array([[  15,   19,   29,   55,   79,   80,   86,   93,   98,  111,  115,\n",
       "         155,  158,  161,  165,  191,  195,  203,  213,  228,  237,  246,\n",
       "         259,  262,  292,  313,  336,  344,  357,  358,  364,  378,  380,\n",
       "         398,  423,  426,  468,  517,  520,  528,  541,  569,  591,  599,\n",
       "         616,  628,  646,  660,  664,  671,  675,  693,  736,  742,  766,\n",
       "         804,  825,  838,  854,  863,  873,  892,  906,  917,  943,  961,\n",
       "         964,  978,  984,  985, 1005, 1011, 1018, 1027, 1048, 1064, 1080,\n",
       "        1112, 1125, 1143, 1156, 1164, 1180, 1202, 1203, 1242, 1251, 1254,\n",
       "        1259, 1265, 1285, 1291, 1296, 1332, 1336, 1344, 1356, 1362, 1375,\n",
       "        1377, 1379, 1406, 1408, 1458, 1502, 1507, 1516, 1518, 1524, 1547,\n",
       "        1565, 1579, 1583, 1586, 1588, 1590, 1620, 1631, 1675, 1677, 1696,\n",
       "        1698, 1703, 1718, 1737, 1747, 1752, 1761, 1791, 1803, 1811, 1823,\n",
       "        1824, 1834, 1868, 1878, 1879, 1883, 1890, 1908, 1945, 1950, 1980,\n",
       "        2001, 2002, 2015, 2036, 2037, 2051, 2096, 2127, 2133, 2140, 2173,\n",
       "        2230, 2233, 2235, 2258, 2300, 2305, 2316, 2322, 2328, 2331, 2367,\n",
       "        2397, 2417, 2422, 2427, 2429, 2430, 2442, 2455, 2458, 2461, 2462,\n",
       "        2480, 2484, 2499, 2523, 2555, 2578, 2598, 2603, 2678, 2726, 2728,\n",
       "        2737, 2741, 2744, 2749, 2766, 2769, 2780, 2785, 2786, 2788, 2790,\n",
       "        2802, 2814, 2825, 2827, 2834, 2864, 2897, 2916, 2934, 2936, 2945,\n",
       "        2977, 2990, 3003, 3015, 3016, 3045, 3047, 3073, 3090, 3120, 3149,\n",
       "        3155, 3174, 3176, 3186, 3188, 3199, 3206, 3227, 3235, 3258, 3266,\n",
       "        3267, 3287, 3294, 3296, 3299, 3303]], dtype=int64)"
      ]
     },
     "execution_count": 13,
     "metadata": {},
     "output_type": "execute_result"
    }
   ],
   "source": [
    "misclassified"
   ]
  },
  {
   "cell_type": "markdown",
   "metadata": {},
   "source": [
    "## Exercise 2"
   ]
  },
  {
   "cell_type": "markdown",
   "metadata": {},
   "source": [
    "● Train with only two input parameters - parameter Prefix_Suffix and 13 URL_of_Anchor.\n",
    "\n",
    "● Check accuracy using the test data and compare the accuracy with the previous value.\n",
    "\n",
    "● Plot the test samples along with the decision boundary when trained with index 5 and index 13 parameters.m"
   ]
  },
  {
   "cell_type": "code",
   "execution_count": 14,
   "metadata": {},
   "outputs": [],
   "source": [
    "features1 = data.loc[:,['PrefixSuffix-','AnchorURL']].values\n",
    "label1 = data.iloc[:,-1].values"
   ]
  },
  {
   "cell_type": "code",
   "execution_count": 15,
   "metadata": {},
   "outputs": [],
   "source": [
    "from sklearn.model_selection import train_test_split\n",
    "x_train,x_test,y_train,y_test = train_test_split(features1,\n",
    "                                                label1,\n",
    "                                                test_size = 0.3,\n",
    "                                                random_state =4)"
   ]
  },
  {
   "cell_type": "code",
   "execution_count": 16,
   "metadata": {},
   "outputs": [
    {
     "name": "stdout",
     "output_type": "stream",
     "text": [
      "training score =  0.8444042388214009\n",
      "testing score =  0.859511606873681\n"
     ]
    },
    {
     "name": "stderr",
     "output_type": "stream",
     "text": [
      "C:\\Users\\nilesh\\Anaconda3\\lib\\site-packages\\sklearn\\linear_model\\logistic.py:432: FutureWarning: Default solver will be changed to 'lbfgs' in 0.22. Specify a solver to silence this warning.\n",
      "  FutureWarning)\n"
     ]
    }
   ],
   "source": [
    "from sklearn.linear_model import LogisticRegression\n",
    "logistic_model1 = LogisticRegression(C = 100)\n",
    "logistic_model1.fit(x_train,y_train)\n",
    "print(\"training score = \",logistic_model1.score(x_train,y_train))\n",
    "print(\"testing score = \",logistic_model1.score(x_test,y_test))"
   ]
  },
  {
   "cell_type": "code",
   "execution_count": 17,
   "metadata": {},
   "outputs": [
    {
     "data": {
      "text/plain": [
       "array([[ 966,  463],\n",
       "       [   3, 1885]], dtype=int64)"
      ]
     },
     "execution_count": 17,
     "metadata": {},
     "output_type": "execute_result"
    }
   ],
   "source": [
    "from sklearn.metrics import confusion_matrix\n",
    "cm = confusion_matrix(y_test , logistic_model1.predict(x_test))\n",
    "cm"
   ]
  },
  {
   "cell_type": "code",
   "execution_count": 18,
   "metadata": {},
   "outputs": [
    {
     "name": "stdout",
     "output_type": "stream",
     "text": [
      "accuracy =  0.859511606873681\n"
     ]
    }
   ],
   "source": [
    "from sklearn.metrics import accuracy_score\n",
    "print(\"accuracy = \",accuracy_score(y_test , logistic_model1.predict(x_test)))"
   ]
  },
  {
   "cell_type": "code",
   "execution_count": 19,
   "metadata": {},
   "outputs": [
    {
     "data": {
      "text/plain": [
       "466"
      ]
     },
     "execution_count": 19,
     "metadata": {},
     "output_type": "execute_result"
    }
   ],
   "source": [
    "cm.sum()-cm.diagonal().sum()"
   ]
  },
  {
   "cell_type": "code",
   "execution_count": 20,
   "metadata": {},
   "outputs": [
    {
     "name": "stdout",
     "output_type": "stream",
     "text": [
      "Misclassified samples =  466\n"
     ]
    }
   ],
   "source": [
    "misclassified = np.where(y_test != logistic_model1.predict(x_test))\n",
    "misclassified=np.array(misclassified)\n",
    "print(\"Misclassified samples = \",misclassified.shape[1])"
   ]
  },
  {
   "cell_type": "code",
   "execution_count": 21,
   "metadata": {
    "scrolled": true
   },
   "outputs": [
    {
     "data": {
      "text/plain": [
       "array([[   1,   15,   20,   23,   26,   47,   50,   55,   62,   71,   76,\n",
       "          79,   82,   86,   97,  104,  123,  125,  127,  128,  132,  137,\n",
       "         140,  144,  155,  157,  161,  164,  165,  195,  203,  205,  210,\n",
       "         226,  228,  241,  244,  246,  247,  259,  260,  265,  268,  276,\n",
       "         281,  285,  292,  294,  295,  313,  336,  338,  344,  347,  358,\n",
       "         361,  362,  364,  373,  374,  378,  396,  398,  402,  406,  421,\n",
       "         423,  448,  455,  468,  476,  483,  506,  507,  517,  523,  541,\n",
       "         552,  560,  569,  574,  581,  588,  599,  600,  607,  612,  616,\n",
       "         629,  635,  637,  671,  675,  687,  693,  699,  701,  722,  751,\n",
       "         758,  761,  765,  766,  767,  769,  782,  830,  854,  870,  873,\n",
       "         879,  931,  935,  948,  955,  956,  961,  975,  978,  980, 1001,\n",
       "        1005, 1020, 1022, 1028, 1036, 1045, 1046, 1059, 1068, 1080, 1093,\n",
       "        1099, 1107, 1112, 1116, 1123, 1127, 1129, 1143, 1144, 1158, 1160,\n",
       "        1180, 1188, 1202, 1203, 1204, 1212, 1221, 1225, 1239, 1243, 1251,\n",
       "        1252, 1262, 1265, 1270, 1275, 1285, 1302, 1306, 1318, 1324, 1332,\n",
       "        1336, 1344, 1346, 1348, 1356, 1358, 1362, 1377, 1380, 1381, 1383,\n",
       "        1392, 1406, 1408, 1412, 1414, 1418, 1420, 1424, 1433, 1442, 1446,\n",
       "        1448, 1449, 1450, 1451, 1458, 1461, 1464, 1465, 1467, 1469, 1474,\n",
       "        1495, 1497, 1501, 1516, 1524, 1547, 1559, 1567, 1568, 1574, 1576,\n",
       "        1577, 1579, 1589, 1590, 1598, 1604, 1608, 1620, 1622, 1625, 1631,\n",
       "        1640, 1641, 1644, 1668, 1669, 1671, 1677, 1697, 1703, 1709, 1711,\n",
       "        1718, 1723, 1732, 1736, 1741, 1747, 1751, 1761, 1762, 1767, 1768,\n",
       "        1780, 1791, 1796, 1800, 1803, 1816, 1819, 1822, 1823, 1824, 1826,\n",
       "        1833, 1834, 1837, 1844, 1846, 1853, 1859, 1862, 1867, 1868, 1874,\n",
       "        1878, 1879, 1886, 1889, 1897, 1923, 1924, 1931, 1932, 1933, 1950,\n",
       "        1963, 1972, 1980, 1983, 1987, 2001, 2002, 2008, 2022, 2031, 2035,\n",
       "        2037, 2039, 2042, 2051, 2066, 2068, 2080, 2088, 2094, 2097, 2098,\n",
       "        2110, 2115, 2137, 2148, 2161, 2183, 2187, 2189, 2194, 2197, 2202,\n",
       "        2230, 2232, 2238, 2244, 2245, 2246, 2248, 2249, 2254, 2258, 2287,\n",
       "        2289, 2290, 2292, 2297, 2300, 2305, 2306, 2311, 2321, 2326, 2331,\n",
       "        2334, 2349, 2350, 2375, 2376, 2384, 2385, 2404, 2412, 2414, 2417,\n",
       "        2430, 2435, 2438, 2441, 2462, 2499, 2508, 2514, 2516, 2519, 2523,\n",
       "        2538, 2545, 2548, 2555, 2561, 2563, 2575, 2586, 2598, 2603, 2628,\n",
       "        2643, 2651, 2666, 2680, 2681, 2687, 2726, 2737, 2744, 2755, 2766,\n",
       "        2780, 2786, 2790, 2802, 2804, 2814, 2820, 2822, 2825, 2834, 2838,\n",
       "        2850, 2858, 2873, 2876, 2879, 2880, 2883, 2884, 2886, 2896, 2897,\n",
       "        2908, 2910, 2911, 2914, 2917, 2922, 2934, 2936, 2947, 2951, 2959,\n",
       "        2963, 2967, 2970, 2978, 2990, 2991, 2997, 2998, 3003, 3016, 3017,\n",
       "        3020, 3024, 3037, 3045, 3047, 3048, 3058, 3066, 3071, 3089, 3090,\n",
       "        3097, 3101, 3102, 3110, 3119, 3120, 3128, 3129, 3134, 3140, 3154,\n",
       "        3155, 3170, 3173, 3176, 3177, 3189, 3199, 3204, 3206, 3225, 3243,\n",
       "        3245, 3246, 3258, 3262, 3266, 3267, 3285, 3287, 3288, 3294, 3296,\n",
       "        3299, 3301, 3304, 3316]], dtype=int64)"
      ]
     },
     "execution_count": 21,
     "metadata": {},
     "output_type": "execute_result"
    }
   ],
   "source": [
    "misclassified"
   ]
  },
  {
   "cell_type": "code",
   "execution_count": 23,
   "metadata": {
    "scrolled": true
   },
   "outputs": [
    {
     "name": "stdout",
     "output_type": "stream",
     "text": [
      "0.9034649245056992\n"
     ]
    },
    {
     "data": {
      "text/plain": [
       "[<matplotlib.lines.Line2D at 0x1f08a061860>]"
      ]
     },
     "execution_count": 23,
     "metadata": {},
     "output_type": "execute_result"
    },
    {
     "data": {
      "image/png": "[encoded data removed]",
      "text/plain": [
       "<Figure size 432x288 with 1 Axes>"
      ]
     },
     "metadata": {
      "needs_background": "light"
     },
     "output_type": "display_data"
    }
   ],
   "source": [
    "import matplotlib.pyplot as plt\n",
    "from sklearn.metrics import roc_auc_score\n",
    "from sklearn.metrics import roc_curve\n",
    "proba = logistic_model1.predict_proba(x_test)\n",
    "proba = proba[:,1]\n",
    "auc = roc_auc_score(y_test,proba)\n",
    "print(auc)\n",
    "fpr,tpr,_ = roc_curve(y_test,proba)\n",
    "plt.plot([0,1],[0,1],linestyle = \"--\")\n",
    "plt.plot(fpr,tpr,marker = \".\")"
   ]
  },
  {
   "cell_type": "markdown",
   "metadata": {},
   "source": [
    "Model 1 Acurracy is better than Model 2"
   ]
  },
  {
   "cell_type": "code",
   "execution_count": 24,
   "metadata": {},
   "outputs": [
    {
     "data": {
      "text/html": [
       "<div>\n",
       "<style scoped>\n",
       "    .dataframe tbody tr th:only-of-type {\n",
       "        vertical-align: middle;\n",
       "    }\n",
       "\n",
       "    .dataframe tbody tr th {\n",
       "        vertical-align: top;\n",
       "    }\n",
       "\n",
       "    .dataframe thead th {\n",
       "        text-align: right;\n",
       "    }\n",
       "</style>\n",
       "<table border=\"1\" class=\"dataframe\">\n",
       "  <thead>\n",
       "    <tr style=\"text-align: right;\">\n",
       "      <th></th>\n",
       "      <th>Accuracy</th>\n",
       "    </tr>\n",
       "  </thead>\n",
       "  <tbody>\n",
       "    <tr>\n",
       "      <td>model 1</td>\n",
       "      <td>0.928</td>\n",
       "    </tr>\n",
       "    <tr>\n",
       "      <td>model 2</td>\n",
       "      <td>0.859</td>\n",
       "    </tr>\n",
       "  </tbody>\n",
       "</table>\n",
       "</div>"
      ],
      "text/plain": [
       "          Accuracy\n",
       "model 1      0.928\n",
       "model 2      0.859"
      ]
     },
     "execution_count": 24,
     "metadata": {},
     "output_type": "execute_result"
    }
   ],
   "source": [
    "pd.DataFrame([[0.928],[0.859]],columns = [\"Accuracy\"], index=[\"model 1 \" , \"model 2\"])"
   ]
  }
 ],
 "metadata": {
  "kernelspec": {
   "display_name": "Python 3",
   "language": "python",
   "name": "python3"
  },
  "language_info": {
   "codemirror_mode": {
    "name": "ipython",
    "version": 3
   },
   "file_extension": ".py",
   "mimetype": "text/x-python",
   "name": "python",
   "nbconvert_exporter": "python",
   "pygments_lexer": "ipython3",
   "version": "3.6.9"
  }
 },
 "nbformat": 4,
 "nbformat_minor": 2
}
